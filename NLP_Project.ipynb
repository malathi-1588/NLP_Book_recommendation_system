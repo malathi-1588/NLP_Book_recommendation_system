{
 "cells": [
  {
   "cell_type": "code",
   "execution_count": 2,
   "id": "934aa4f7",
   "metadata": {},
   "outputs": [],
   "source": [
    "import pandas as pd\n",
    "import numpy as np\n",
    "import regex as re\n",
    "import nltk"
   ]
  },
  {
   "cell_type": "code",
   "execution_count": 2,
   "id": "bcd789c2",
   "metadata": {},
   "outputs": [
    {
     "name": "stdout",
     "output_type": "stream",
     "text": [
      "<class 'pandas.core.frame.DataFrame'>\n",
      "RangeIndex: 10000 entries, 0 to 9999\n",
      "Data columns (total 8 columns):\n",
      " #   Column       Non-Null Count  Dtype  \n",
      "---  ------       --------------  -----  \n",
      " 0   Unnamed: 0   10000 non-null  int64  \n",
      " 1   Book         10000 non-null  object \n",
      " 2   Author       10000 non-null  object \n",
      " 3   Description  9923 non-null   object \n",
      " 4   Genres       10000 non-null  object \n",
      " 5   Avg_Rating   10000 non-null  float64\n",
      " 6   Num_Ratings  10000 non-null  object \n",
      " 7   URL          10000 non-null  object \n",
      "dtypes: float64(1), int64(1), object(6)\n",
      "memory usage: 625.1+ KB\n"
     ]
    }
   ],
   "source": [
    "df = pd.read_csv(r\"C:\\Users\\karu0\\Machine Learning\\NLP\\goodreads_data.csv\")\n",
    "df.info()"
   ]
  },
  {
   "cell_type": "code",
   "execution_count": 3,
   "id": "acd1eb28",
   "metadata": {},
   "outputs": [
    {
     "data": {
      "text/html": [
       "<div>\n",
       "<style scoped>\n",
       "    .dataframe tbody tr th:only-of-type {\n",
       "        vertical-align: middle;\n",
       "    }\n",
       "\n",
       "    .dataframe tbody tr th {\n",
       "        vertical-align: top;\n",
       "    }\n",
       "\n",
       "    .dataframe thead th {\n",
       "        text-align: right;\n",
       "    }\n",
       "</style>\n",
       "<table border=\"1\" class=\"dataframe\">\n",
       "  <thead>\n",
       "    <tr style=\"text-align: right;\">\n",
       "      <th></th>\n",
       "      <th>Unnamed: 0</th>\n",
       "      <th>Book</th>\n",
       "      <th>Author</th>\n",
       "      <th>Description</th>\n",
       "      <th>Genres</th>\n",
       "      <th>Avg_Rating</th>\n",
       "      <th>Num_Ratings</th>\n",
       "      <th>URL</th>\n",
       "    </tr>\n",
       "  </thead>\n",
       "  <tbody>\n",
       "    <tr>\n",
       "      <th>0</th>\n",
       "      <td>0</td>\n",
       "      <td>To Kill a Mockingbird</td>\n",
       "      <td>Harper Lee</td>\n",
       "      <td>The unforgettable novel of a childhood in a sl...</td>\n",
       "      <td>['Classics', 'Fiction', 'Historical Fiction', ...</td>\n",
       "      <td>4.27</td>\n",
       "      <td>5,691,311</td>\n",
       "      <td>https://www.goodreads.com/book/show/2657.To_Ki...</td>\n",
       "    </tr>\n",
       "    <tr>\n",
       "      <th>1</th>\n",
       "      <td>1</td>\n",
       "      <td>Harry Potter and the Philosopher’s Stone (Harr...</td>\n",
       "      <td>J.K. Rowling</td>\n",
       "      <td>Harry Potter thinks he is an ordinary boy - un...</td>\n",
       "      <td>['Fantasy', 'Fiction', 'Young Adult', 'Magic',...</td>\n",
       "      <td>4.47</td>\n",
       "      <td>9,278,135</td>\n",
       "      <td>https://www.goodreads.com/book/show/72193.Harr...</td>\n",
       "    </tr>\n",
       "    <tr>\n",
       "      <th>2</th>\n",
       "      <td>2</td>\n",
       "      <td>Pride and Prejudice</td>\n",
       "      <td>Jane Austen</td>\n",
       "      <td>Since its immediate success in 1813, Pride and...</td>\n",
       "      <td>['Classics', 'Fiction', 'Romance', 'Historical...</td>\n",
       "      <td>4.28</td>\n",
       "      <td>3,944,155</td>\n",
       "      <td>https://www.goodreads.com/book/show/1885.Pride...</td>\n",
       "    </tr>\n",
       "    <tr>\n",
       "      <th>3</th>\n",
       "      <td>3</td>\n",
       "      <td>The Diary of a Young Girl</td>\n",
       "      <td>Anne Frank</td>\n",
       "      <td>Discovered in the attic in which she spent the...</td>\n",
       "      <td>['Classics', 'Nonfiction', 'History', 'Biograp...</td>\n",
       "      <td>4.18</td>\n",
       "      <td>3,488,438</td>\n",
       "      <td>https://www.goodreads.com/book/show/48855.The_...</td>\n",
       "    </tr>\n",
       "    <tr>\n",
       "      <th>4</th>\n",
       "      <td>4</td>\n",
       "      <td>Animal Farm</td>\n",
       "      <td>George Orwell</td>\n",
       "      <td>Librarian's note: There is an Alternate Cover ...</td>\n",
       "      <td>['Classics', 'Fiction', 'Dystopia', 'Fantasy',...</td>\n",
       "      <td>3.98</td>\n",
       "      <td>3,575,172</td>\n",
       "      <td>https://www.goodreads.com/book/show/170448.Ani...</td>\n",
       "    </tr>\n",
       "  </tbody>\n",
       "</table>\n",
       "</div>"
      ],
      "text/plain": [
       "   Unnamed: 0                                               Book  \\\n",
       "0           0                              To Kill a Mockingbird   \n",
       "1           1  Harry Potter and the Philosopher’s Stone (Harr...   \n",
       "2           2                                Pride and Prejudice   \n",
       "3           3                          The Diary of a Young Girl   \n",
       "4           4                                        Animal Farm   \n",
       "\n",
       "          Author                                        Description  \\\n",
       "0     Harper Lee  The unforgettable novel of a childhood in a sl...   \n",
       "1   J.K. Rowling  Harry Potter thinks he is an ordinary boy - un...   \n",
       "2    Jane Austen  Since its immediate success in 1813, Pride and...   \n",
       "3     Anne Frank  Discovered in the attic in which she spent the...   \n",
       "4  George Orwell  Librarian's note: There is an Alternate Cover ...   \n",
       "\n",
       "                                              Genres  Avg_Rating Num_Ratings  \\\n",
       "0  ['Classics', 'Fiction', 'Historical Fiction', ...        4.27   5,691,311   \n",
       "1  ['Fantasy', 'Fiction', 'Young Adult', 'Magic',...        4.47   9,278,135   \n",
       "2  ['Classics', 'Fiction', 'Romance', 'Historical...        4.28   3,944,155   \n",
       "3  ['Classics', 'Nonfiction', 'History', 'Biograp...        4.18   3,488,438   \n",
       "4  ['Classics', 'Fiction', 'Dystopia', 'Fantasy',...        3.98   3,575,172   \n",
       "\n",
       "                                                 URL  \n",
       "0  https://www.goodreads.com/book/show/2657.To_Ki...  \n",
       "1  https://www.goodreads.com/book/show/72193.Harr...  \n",
       "2  https://www.goodreads.com/book/show/1885.Pride...  \n",
       "3  https://www.goodreads.com/book/show/48855.The_...  \n",
       "4  https://www.goodreads.com/book/show/170448.Ani...  "
      ]
     },
     "execution_count": 3,
     "metadata": {},
     "output_type": "execute_result"
    }
   ],
   "source": [
    "df.head()"
   ]
  },
  {
   "cell_type": "markdown",
   "id": "c2090035",
   "metadata": {},
   "source": [
    "## Cleaning"
   ]
  },
  {
   "cell_type": "code",
   "execution_count": 4,
   "id": "8987e8ac",
   "metadata": {},
   "outputs": [
    {
     "data": {
      "text/plain": [
       "Unnamed: 0      0\n",
       "Book            0\n",
       "Author          0\n",
       "Description    77\n",
       "Genres          0\n",
       "Avg_Rating      0\n",
       "Num_Ratings     0\n",
       "URL             0\n",
       "dtype: int64"
      ]
     },
     "execution_count": 4,
     "metadata": {},
     "output_type": "execute_result"
    }
   ],
   "source": [
    "df.isna().sum()"
   ]
  },
  {
   "cell_type": "code",
   "execution_count": 5,
   "id": "4d9a9d42",
   "metadata": {},
   "outputs": [],
   "source": [
    "df.dropna(subset=[\"Description\"], inplace=True)"
   ]
  },
  {
   "cell_type": "markdown",
   "id": "3e7b65e7",
   "metadata": {},
   "source": [
    "## URL & HTML tag removal from description"
   ]
  },
  {
   "cell_type": "code",
   "execution_count": 6,
   "id": "fef8e249",
   "metadata": {},
   "outputs": [
    {
     "name": "stderr",
     "output_type": "stream",
     "text": [
      "C:\\Users\\karu0\\AppData\\Local\\Temp\\ipykernel_7340\\3545508365.py:6: UserWarning: Pandas doesn't allow columns to be created via a new attribute name - see https://pandas.pydata.org/pandas-docs/stable/indexing.html#attribute-access\n",
      "  df.description = df.Description.apply(remove_url)\n"
     ]
    }
   ],
   "source": [
    "import re\n",
    "url_pattern = re.compile(r'https?://\\S+|www\\.\\S+')\n",
    "def remove_url(text):   \n",
    "    return re.sub(url_pattern, r'', text)\n",
    "\n",
    "df.description = df.Description.apply(remove_url)"
   ]
  },
  {
   "cell_type": "code",
   "execution_count": 7,
   "id": "7285a0db",
   "metadata": {},
   "outputs": [],
   "source": [
    "html_pattern = re.compile('<[^>]*>')\n",
    "def clean_html_tags(text):\n",
    "    return re.sub(html_pattern, r'', text)\n",
    "\n",
    "df.description = df.Description.apply(clean_html_tags)"
   ]
  },
  {
   "cell_type": "markdown",
   "id": "005cecc9",
   "metadata": {},
   "source": [
    "## Punctuation Removal"
   ]
  },
  {
   "cell_type": "code",
   "execution_count": 8,
   "id": "a5d68f15",
   "metadata": {},
   "outputs": [],
   "source": [
    "import string\n",
    "punctuations = string.punctuation\n",
    "def remove_punctuations(text):\n",
    "    return text.translate(str.maketrans('', '', punctuations))\n",
    "\n",
    "df.description = df.description.apply(remove_punctuations)"
   ]
  },
  {
   "cell_type": "markdown",
   "id": "e75f4235",
   "metadata": {},
   "source": [
    "## Space removal and lower text conversion"
   ]
  },
  {
   "cell_type": "code",
   "execution_count": 9,
   "id": "7a80098b",
   "metadata": {},
   "outputs": [
    {
     "data": {
      "text/html": [
       "<div>\n",
       "<style scoped>\n",
       "    .dataframe tbody tr th:only-of-type {\n",
       "        vertical-align: middle;\n",
       "    }\n",
       "\n",
       "    .dataframe tbody tr th {\n",
       "        vertical-align: top;\n",
       "    }\n",
       "\n",
       "    .dataframe thead th {\n",
       "        text-align: right;\n",
       "    }\n",
       "</style>\n",
       "<table border=\"1\" class=\"dataframe\">\n",
       "  <thead>\n",
       "    <tr style=\"text-align: right;\">\n",
       "      <th></th>\n",
       "      <th>Unnamed: 0</th>\n",
       "      <th>Book</th>\n",
       "      <th>Author</th>\n",
       "      <th>Description</th>\n",
       "      <th>Genres</th>\n",
       "      <th>Avg_Rating</th>\n",
       "      <th>Num_Ratings</th>\n",
       "      <th>URL</th>\n",
       "    </tr>\n",
       "  </thead>\n",
       "  <tbody>\n",
       "    <tr>\n",
       "      <th>0</th>\n",
       "      <td>0</td>\n",
       "      <td>to kill a mockingbird</td>\n",
       "      <td>harper lee</td>\n",
       "      <td>the unforgettable novel of a childhood in a sl...</td>\n",
       "      <td>['Classics', 'Fiction', 'Historical Fiction', ...</td>\n",
       "      <td>4.27</td>\n",
       "      <td>5,691,311</td>\n",
       "      <td>https://www.goodreads.com/book/show/2657.To_Ki...</td>\n",
       "    </tr>\n",
       "    <tr>\n",
       "      <th>1</th>\n",
       "      <td>1</td>\n",
       "      <td>harry potter and the philosopher’s stone (harr...</td>\n",
       "      <td>j.k. rowling</td>\n",
       "      <td>harry potter thinks he is an ordinary boy - un...</td>\n",
       "      <td>['Fantasy', 'Fiction', 'Young Adult', 'Magic',...</td>\n",
       "      <td>4.47</td>\n",
       "      <td>9,278,135</td>\n",
       "      <td>https://www.goodreads.com/book/show/72193.Harr...</td>\n",
       "    </tr>\n",
       "    <tr>\n",
       "      <th>2</th>\n",
       "      <td>2</td>\n",
       "      <td>pride and prejudice</td>\n",
       "      <td>jane austen</td>\n",
       "      <td>since its immediate success in 1813, pride and...</td>\n",
       "      <td>['Classics', 'Fiction', 'Romance', 'Historical...</td>\n",
       "      <td>4.28</td>\n",
       "      <td>3,944,155</td>\n",
       "      <td>https://www.goodreads.com/book/show/1885.Pride...</td>\n",
       "    </tr>\n",
       "    <tr>\n",
       "      <th>3</th>\n",
       "      <td>3</td>\n",
       "      <td>the diary of a young girl</td>\n",
       "      <td>anne frank</td>\n",
       "      <td>discovered in the attic in which she spent the...</td>\n",
       "      <td>['Classics', 'Nonfiction', 'History', 'Biograp...</td>\n",
       "      <td>4.18</td>\n",
       "      <td>3,488,438</td>\n",
       "      <td>https://www.goodreads.com/book/show/48855.The_...</td>\n",
       "    </tr>\n",
       "    <tr>\n",
       "      <th>4</th>\n",
       "      <td>4</td>\n",
       "      <td>animal farm</td>\n",
       "      <td>george orwell</td>\n",
       "      <td>librarian's note: there is an alternate cover ...</td>\n",
       "      <td>['Classics', 'Fiction', 'Dystopia', 'Fantasy',...</td>\n",
       "      <td>3.98</td>\n",
       "      <td>3,575,172</td>\n",
       "      <td>https://www.goodreads.com/book/show/170448.Ani...</td>\n",
       "    </tr>\n",
       "  </tbody>\n",
       "</table>\n",
       "</div>"
      ],
      "text/plain": [
       "   Unnamed: 0                                               Book  \\\n",
       "0           0                              to kill a mockingbird   \n",
       "1           1  harry potter and the philosopher’s stone (harr...   \n",
       "2           2                                pride and prejudice   \n",
       "3           3                          the diary of a young girl   \n",
       "4           4                                        animal farm   \n",
       "\n",
       "          Author                                        Description  \\\n",
       "0     harper lee  the unforgettable novel of a childhood in a sl...   \n",
       "1   j.k. rowling  harry potter thinks he is an ordinary boy - un...   \n",
       "2    jane austen  since its immediate success in 1813, pride and...   \n",
       "3     anne frank  discovered in the attic in which she spent the...   \n",
       "4  george orwell  librarian's note: there is an alternate cover ...   \n",
       "\n",
       "                                              Genres  Avg_Rating Num_Ratings  \\\n",
       "0  ['Classics', 'Fiction', 'Historical Fiction', ...        4.27   5,691,311   \n",
       "1  ['Fantasy', 'Fiction', 'Young Adult', 'Magic',...        4.47   9,278,135   \n",
       "2  ['Classics', 'Fiction', 'Romance', 'Historical...        4.28   3,944,155   \n",
       "3  ['Classics', 'Nonfiction', 'History', 'Biograp...        4.18   3,488,438   \n",
       "4  ['Classics', 'Fiction', 'Dystopia', 'Fantasy',...        3.98   3,575,172   \n",
       "\n",
       "                                                 URL  \n",
       "0  https://www.goodreads.com/book/show/2657.To_Ki...  \n",
       "1  https://www.goodreads.com/book/show/72193.Harr...  \n",
       "2  https://www.goodreads.com/book/show/1885.Pride...  \n",
       "3  https://www.goodreads.com/book/show/48855.The_...  \n",
       "4  https://www.goodreads.com/book/show/170448.Ani...  "
      ]
     },
     "execution_count": 9,
     "metadata": {},
     "output_type": "execute_result"
    }
   ],
   "source": [
    "df[[\"Book\", \"Author\", \"Description\"]] = pd.concat([df[col].astype(str).str.lower().str.strip() for col in [\"Book\", \"Author\", \"Description\"]], axis=1)\n",
    "df.head()"
   ]
  },
  {
   "cell_type": "code",
   "execution_count": 10,
   "id": "bcea24fd-5533-4167-8753-0a4d3685a2fa",
   "metadata": {},
   "outputs": [
    {
     "data": {
      "text/html": [
       "<div>\n",
       "<style scoped>\n",
       "    .dataframe tbody tr th:only-of-type {\n",
       "        vertical-align: middle;\n",
       "    }\n",
       "\n",
       "    .dataframe tbody tr th {\n",
       "        vertical-align: top;\n",
       "    }\n",
       "\n",
       "    .dataframe thead th {\n",
       "        text-align: right;\n",
       "    }\n",
       "</style>\n",
       "<table border=\"1\" class=\"dataframe\">\n",
       "  <thead>\n",
       "    <tr style=\"text-align: right;\">\n",
       "      <th></th>\n",
       "      <th>Unnamed: 0</th>\n",
       "      <th>Book</th>\n",
       "      <th>Author</th>\n",
       "      <th>Description</th>\n",
       "      <th>Genres</th>\n",
       "      <th>Avg_Rating</th>\n",
       "      <th>Num_Ratings</th>\n",
       "      <th>URL</th>\n",
       "    </tr>\n",
       "  </thead>\n",
       "  <tbody>\n",
       "    <tr>\n",
       "      <th>0</th>\n",
       "      <td>0</td>\n",
       "      <td>to kill a mockingbird</td>\n",
       "      <td>harper lee</td>\n",
       "      <td>the unforgettable novel of a childhood in a sl...</td>\n",
       "      <td>['Classics', 'Fiction', 'Historical Fiction', ...</td>\n",
       "      <td>4.27</td>\n",
       "      <td>5,691,311</td>\n",
       "      <td>https://www.goodreads.com/book/show/2657.To_Ki...</td>\n",
       "    </tr>\n",
       "    <tr>\n",
       "      <th>1</th>\n",
       "      <td>1</td>\n",
       "      <td>harry potter and the philosopher’s stone (harr...</td>\n",
       "      <td>j.k. rowling</td>\n",
       "      <td>harry potter thinks he is an ordinary boy - un...</td>\n",
       "      <td>['Fantasy', 'Fiction', 'Young Adult', 'Magic',...</td>\n",
       "      <td>4.47</td>\n",
       "      <td>9,278,135</td>\n",
       "      <td>https://www.goodreads.com/book/show/72193.Harr...</td>\n",
       "    </tr>\n",
       "    <tr>\n",
       "      <th>2</th>\n",
       "      <td>2</td>\n",
       "      <td>pride and prejudice</td>\n",
       "      <td>jane austen</td>\n",
       "      <td>since its immediate success in 1813, pride and...</td>\n",
       "      <td>['Classics', 'Fiction', 'Romance', 'Historical...</td>\n",
       "      <td>4.28</td>\n",
       "      <td>3,944,155</td>\n",
       "      <td>https://www.goodreads.com/book/show/1885.Pride...</td>\n",
       "    </tr>\n",
       "    <tr>\n",
       "      <th>3</th>\n",
       "      <td>3</td>\n",
       "      <td>the diary of a young girl</td>\n",
       "      <td>anne frank</td>\n",
       "      <td>discovered in the attic in which she spent the...</td>\n",
       "      <td>['Classics', 'Nonfiction', 'History', 'Biograp...</td>\n",
       "      <td>4.18</td>\n",
       "      <td>3,488,438</td>\n",
       "      <td>https://www.goodreads.com/book/show/48855.The_...</td>\n",
       "    </tr>\n",
       "    <tr>\n",
       "      <th>4</th>\n",
       "      <td>4</td>\n",
       "      <td>animal farm</td>\n",
       "      <td>george orwell</td>\n",
       "      <td>librarian's note: there is an alternate cover ...</td>\n",
       "      <td>['Classics', 'Fiction', 'Dystopia', 'Fantasy',...</td>\n",
       "      <td>3.98</td>\n",
       "      <td>3,575,172</td>\n",
       "      <td>https://www.goodreads.com/book/show/170448.Ani...</td>\n",
       "    </tr>\n",
       "    <tr>\n",
       "      <th>...</th>\n",
       "      <td>...</td>\n",
       "      <td>...</td>\n",
       "      <td>...</td>\n",
       "      <td>...</td>\n",
       "      <td>...</td>\n",
       "      <td>...</td>\n",
       "      <td>...</td>\n",
       "      <td>...</td>\n",
       "    </tr>\n",
       "    <tr>\n",
       "      <th>9995</th>\n",
       "      <td>9995</td>\n",
       "      <td>breeders (breeders trilogy, #1)</td>\n",
       "      <td>ashley quigley</td>\n",
       "      <td>how far would you go? if human society was gen...</td>\n",
       "      <td>['Dystopia', 'Science Fiction', 'Post Apocalyp...</td>\n",
       "      <td>3.44</td>\n",
       "      <td>276</td>\n",
       "      <td>https://www.goodreads.com/book/show/22085400-b...</td>\n",
       "    </tr>\n",
       "    <tr>\n",
       "      <th>9996</th>\n",
       "      <td>9996</td>\n",
       "      <td>dynamo</td>\n",
       "      <td>eleanor gustafson</td>\n",
       "      <td>jeth cavanaugh is searching for a new life alo...</td>\n",
       "      <td>[]</td>\n",
       "      <td>4.23</td>\n",
       "      <td>60</td>\n",
       "      <td>https://www.goodreads.com/book/show/20862902-d...</td>\n",
       "    </tr>\n",
       "    <tr>\n",
       "      <th>9997</th>\n",
       "      <td>9997</td>\n",
       "      <td>the republic of trees</td>\n",
       "      <td>sam taylor</td>\n",
       "      <td>this dark fable tells the story of four englis...</td>\n",
       "      <td>['Fiction', 'Horror', 'Dystopia', 'Coming Of A...</td>\n",
       "      <td>3.29</td>\n",
       "      <td>383</td>\n",
       "      <td>https://www.goodreads.com/book/show/891262.The...</td>\n",
       "    </tr>\n",
       "    <tr>\n",
       "      <th>9998</th>\n",
       "      <td>9998</td>\n",
       "      <td>waking up (healing hearts, #1)</td>\n",
       "      <td>renee dyer</td>\n",
       "      <td>for adriana monroe life couldn’t get any bette...</td>\n",
       "      <td>['New Adult', 'Romance', 'Contemporary Romance...</td>\n",
       "      <td>4.13</td>\n",
       "      <td>263</td>\n",
       "      <td>https://www.goodreads.com/book/show/19347252-w...</td>\n",
       "    </tr>\n",
       "    <tr>\n",
       "      <th>9999</th>\n",
       "      <td>9999</td>\n",
       "      <td>bits and pieces: tales and sonnets</td>\n",
       "      <td>jas t. ward</td>\n",
       "      <td>after demands of thousands of fans in various ...</td>\n",
       "      <td>[]</td>\n",
       "      <td>5.00</td>\n",
       "      <td>36</td>\n",
       "      <td>https://www.goodreads.com/book/show/21302552-b...</td>\n",
       "    </tr>\n",
       "  </tbody>\n",
       "</table>\n",
       "<p>9923 rows × 8 columns</p>\n",
       "</div>"
      ],
      "text/plain": [
       "      Unnamed: 0                                               Book  \\\n",
       "0              0                              to kill a mockingbird   \n",
       "1              1  harry potter and the philosopher’s stone (harr...   \n",
       "2              2                                pride and prejudice   \n",
       "3              3                          the diary of a young girl   \n",
       "4              4                                        animal farm   \n",
       "...          ...                                                ...   \n",
       "9995        9995                    breeders (breeders trilogy, #1)   \n",
       "9996        9996                                             dynamo   \n",
       "9997        9997                              the republic of trees   \n",
       "9998        9998                     waking up (healing hearts, #1)   \n",
       "9999        9999                 bits and pieces: tales and sonnets   \n",
       "\n",
       "                 Author                                        Description  \\\n",
       "0            harper lee  the unforgettable novel of a childhood in a sl...   \n",
       "1          j.k. rowling  harry potter thinks he is an ordinary boy - un...   \n",
       "2           jane austen  since its immediate success in 1813, pride and...   \n",
       "3            anne frank  discovered in the attic in which she spent the...   \n",
       "4         george orwell  librarian's note: there is an alternate cover ...   \n",
       "...                 ...                                                ...   \n",
       "9995     ashley quigley  how far would you go? if human society was gen...   \n",
       "9996  eleanor gustafson  jeth cavanaugh is searching for a new life alo...   \n",
       "9997         sam taylor  this dark fable tells the story of four englis...   \n",
       "9998         renee dyer  for adriana monroe life couldn’t get any bette...   \n",
       "9999        jas t. ward  after demands of thousands of fans in various ...   \n",
       "\n",
       "                                                 Genres  Avg_Rating  \\\n",
       "0     ['Classics', 'Fiction', 'Historical Fiction', ...        4.27   \n",
       "1     ['Fantasy', 'Fiction', 'Young Adult', 'Magic',...        4.47   \n",
       "2     ['Classics', 'Fiction', 'Romance', 'Historical...        4.28   \n",
       "3     ['Classics', 'Nonfiction', 'History', 'Biograp...        4.18   \n",
       "4     ['Classics', 'Fiction', 'Dystopia', 'Fantasy',...        3.98   \n",
       "...                                                 ...         ...   \n",
       "9995  ['Dystopia', 'Science Fiction', 'Post Apocalyp...        3.44   \n",
       "9996                                                 []        4.23   \n",
       "9997  ['Fiction', 'Horror', 'Dystopia', 'Coming Of A...        3.29   \n",
       "9998  ['New Adult', 'Romance', 'Contemporary Romance...        4.13   \n",
       "9999                                                 []        5.00   \n",
       "\n",
       "     Num_Ratings                                                URL  \n",
       "0      5,691,311  https://www.goodreads.com/book/show/2657.To_Ki...  \n",
       "1      9,278,135  https://www.goodreads.com/book/show/72193.Harr...  \n",
       "2      3,944,155  https://www.goodreads.com/book/show/1885.Pride...  \n",
       "3      3,488,438  https://www.goodreads.com/book/show/48855.The_...  \n",
       "4      3,575,172  https://www.goodreads.com/book/show/170448.Ani...  \n",
       "...          ...                                                ...  \n",
       "9995         276  https://www.goodreads.com/book/show/22085400-b...  \n",
       "9996          60  https://www.goodreads.com/book/show/20862902-d...  \n",
       "9997         383  https://www.goodreads.com/book/show/891262.The...  \n",
       "9998         263  https://www.goodreads.com/book/show/19347252-w...  \n",
       "9999          36  https://www.goodreads.com/book/show/21302552-b...  \n",
       "\n",
       "[9923 rows x 8 columns]"
      ]
     },
     "execution_count": 10,
     "metadata": {},
     "output_type": "execute_result"
    }
   ],
   "source": [
    "df"
   ]
  },
  {
   "cell_type": "code",
   "execution_count": 11,
   "id": "e5bca9b0",
   "metadata": {},
   "outputs": [
    {
     "data": {
      "text/plain": [
       "0"
      ]
     },
     "execution_count": 11,
     "metadata": {},
     "output_type": "execute_result"
    }
   ],
   "source": [
    "df[df.duplicated()==True].shape[0]"
   ]
  },
  {
   "cell_type": "code",
   "execution_count": 12,
   "id": "45cbad71",
   "metadata": {},
   "outputs": [
    {
     "data": {
      "text/plain": [
       "Unnamed: 0        0\n",
       "Book            129\n",
       "Author         3914\n",
       "Description      36\n",
       "Genres         1901\n",
       "Avg_Rating     9712\n",
       "Num_Ratings    2389\n",
       "URL               0\n",
       "dtype: int64"
      ]
     },
     "execution_count": 12,
     "metadata": {},
     "output_type": "execute_result"
    }
   ],
   "source": [
    "df.shape[0] - df.nunique()"
   ]
  },
  {
   "cell_type": "code",
   "execution_count": 13,
   "id": "3b8917fb-d4b4-4118-9dbb-f45f610dd131",
   "metadata": {},
   "outputs": [
    {
     "data": {
      "text/html": [
       "<div>\n",
       "<style scoped>\n",
       "    .dataframe tbody tr th:only-of-type {\n",
       "        vertical-align: middle;\n",
       "    }\n",
       "\n",
       "    .dataframe tbody tr th {\n",
       "        vertical-align: top;\n",
       "    }\n",
       "\n",
       "    .dataframe thead th {\n",
       "        text-align: right;\n",
       "    }\n",
       "</style>\n",
       "<table border=\"1\" class=\"dataframe\">\n",
       "  <thead>\n",
       "    <tr style=\"text-align: right;\">\n",
       "      <th></th>\n",
       "      <th>Unnamed: 0</th>\n",
       "      <th>Book</th>\n",
       "      <th>Author</th>\n",
       "      <th>Description</th>\n",
       "      <th>Genres</th>\n",
       "      <th>Avg_Rating</th>\n",
       "      <th>Num_Ratings</th>\n",
       "      <th>URL</th>\n",
       "    </tr>\n",
       "  </thead>\n",
       "  <tbody>\n",
       "    <tr>\n",
       "      <th>0</th>\n",
       "      <td>0</td>\n",
       "      <td>to kill a mockingbird</td>\n",
       "      <td>harper lee</td>\n",
       "      <td>the unforgettable novel of a childhood in a sl...</td>\n",
       "      <td>['Classics', 'Fiction', 'Historical Fiction', ...</td>\n",
       "      <td>4.27</td>\n",
       "      <td>5,691,311</td>\n",
       "      <td>https://www.goodreads.com/book/show/2657.To_Ki...</td>\n",
       "    </tr>\n",
       "    <tr>\n",
       "      <th>1</th>\n",
       "      <td>1</td>\n",
       "      <td>harry potter and the philosopher’s stone (harr...</td>\n",
       "      <td>j.k. rowling</td>\n",
       "      <td>harry potter thinks he is an ordinary boy - un...</td>\n",
       "      <td>['Fantasy', 'Fiction', 'Young Adult', 'Magic',...</td>\n",
       "      <td>4.47</td>\n",
       "      <td>9,278,135</td>\n",
       "      <td>https://www.goodreads.com/book/show/72193.Harr...</td>\n",
       "    </tr>\n",
       "    <tr>\n",
       "      <th>2</th>\n",
       "      <td>2</td>\n",
       "      <td>pride and prejudice</td>\n",
       "      <td>jane austen</td>\n",
       "      <td>since its immediate success in 1813, pride and...</td>\n",
       "      <td>['Classics', 'Fiction', 'Romance', 'Historical...</td>\n",
       "      <td>4.28</td>\n",
       "      <td>3,944,155</td>\n",
       "      <td>https://www.goodreads.com/book/show/1885.Pride...</td>\n",
       "    </tr>\n",
       "    <tr>\n",
       "      <th>3</th>\n",
       "      <td>3</td>\n",
       "      <td>the diary of a young girl</td>\n",
       "      <td>anne frank</td>\n",
       "      <td>discovered in the attic in which she spent the...</td>\n",
       "      <td>['Classics', 'Nonfiction', 'History', 'Biograp...</td>\n",
       "      <td>4.18</td>\n",
       "      <td>3,488,438</td>\n",
       "      <td>https://www.goodreads.com/book/show/48855.The_...</td>\n",
       "    </tr>\n",
       "    <tr>\n",
       "      <th>4</th>\n",
       "      <td>4</td>\n",
       "      <td>animal farm</td>\n",
       "      <td>george orwell</td>\n",
       "      <td>librarian's note: there is an alternate cover ...</td>\n",
       "      <td>['Classics', 'Fiction', 'Dystopia', 'Fantasy',...</td>\n",
       "      <td>3.98</td>\n",
       "      <td>3,575,172</td>\n",
       "      <td>https://www.goodreads.com/book/show/170448.Ani...</td>\n",
       "    </tr>\n",
       "    <tr>\n",
       "      <th>...</th>\n",
       "      <td>...</td>\n",
       "      <td>...</td>\n",
       "      <td>...</td>\n",
       "      <td>...</td>\n",
       "      <td>...</td>\n",
       "      <td>...</td>\n",
       "      <td>...</td>\n",
       "      <td>...</td>\n",
       "    </tr>\n",
       "    <tr>\n",
       "      <th>9995</th>\n",
       "      <td>9995</td>\n",
       "      <td>breeders (breeders trilogy, #1)</td>\n",
       "      <td>ashley quigley</td>\n",
       "      <td>how far would you go? if human society was gen...</td>\n",
       "      <td>['Dystopia', 'Science Fiction', 'Post Apocalyp...</td>\n",
       "      <td>3.44</td>\n",
       "      <td>276</td>\n",
       "      <td>https://www.goodreads.com/book/show/22085400-b...</td>\n",
       "    </tr>\n",
       "    <tr>\n",
       "      <th>9996</th>\n",
       "      <td>9996</td>\n",
       "      <td>dynamo</td>\n",
       "      <td>eleanor gustafson</td>\n",
       "      <td>jeth cavanaugh is searching for a new life alo...</td>\n",
       "      <td>[]</td>\n",
       "      <td>4.23</td>\n",
       "      <td>60</td>\n",
       "      <td>https://www.goodreads.com/book/show/20862902-d...</td>\n",
       "    </tr>\n",
       "    <tr>\n",
       "      <th>9997</th>\n",
       "      <td>9997</td>\n",
       "      <td>the republic of trees</td>\n",
       "      <td>sam taylor</td>\n",
       "      <td>this dark fable tells the story of four englis...</td>\n",
       "      <td>['Fiction', 'Horror', 'Dystopia', 'Coming Of A...</td>\n",
       "      <td>3.29</td>\n",
       "      <td>383</td>\n",
       "      <td>https://www.goodreads.com/book/show/891262.The...</td>\n",
       "    </tr>\n",
       "    <tr>\n",
       "      <th>9998</th>\n",
       "      <td>9998</td>\n",
       "      <td>waking up (healing hearts, #1)</td>\n",
       "      <td>renee dyer</td>\n",
       "      <td>for adriana monroe life couldn’t get any bette...</td>\n",
       "      <td>['New Adult', 'Romance', 'Contemporary Romance...</td>\n",
       "      <td>4.13</td>\n",
       "      <td>263</td>\n",
       "      <td>https://www.goodreads.com/book/show/19347252-w...</td>\n",
       "    </tr>\n",
       "    <tr>\n",
       "      <th>9999</th>\n",
       "      <td>9999</td>\n",
       "      <td>bits and pieces: tales and sonnets</td>\n",
       "      <td>jas t. ward</td>\n",
       "      <td>after demands of thousands of fans in various ...</td>\n",
       "      <td>[]</td>\n",
       "      <td>5.00</td>\n",
       "      <td>36</td>\n",
       "      <td>https://www.goodreads.com/book/show/21302552-b...</td>\n",
       "    </tr>\n",
       "  </tbody>\n",
       "</table>\n",
       "<p>9923 rows × 8 columns</p>\n",
       "</div>"
      ],
      "text/plain": [
       "      Unnamed: 0                                               Book  \\\n",
       "0              0                              to kill a mockingbird   \n",
       "1              1  harry potter and the philosopher’s stone (harr...   \n",
       "2              2                                pride and prejudice   \n",
       "3              3                          the diary of a young girl   \n",
       "4              4                                        animal farm   \n",
       "...          ...                                                ...   \n",
       "9995        9995                    breeders (breeders trilogy, #1)   \n",
       "9996        9996                                             dynamo   \n",
       "9997        9997                              the republic of trees   \n",
       "9998        9998                     waking up (healing hearts, #1)   \n",
       "9999        9999                 bits and pieces: tales and sonnets   \n",
       "\n",
       "                 Author                                        Description  \\\n",
       "0            harper lee  the unforgettable novel of a childhood in a sl...   \n",
       "1          j.k. rowling  harry potter thinks he is an ordinary boy - un...   \n",
       "2           jane austen  since its immediate success in 1813, pride and...   \n",
       "3            anne frank  discovered in the attic in which she spent the...   \n",
       "4         george orwell  librarian's note: there is an alternate cover ...   \n",
       "...                 ...                                                ...   \n",
       "9995     ashley quigley  how far would you go? if human society was gen...   \n",
       "9996  eleanor gustafson  jeth cavanaugh is searching for a new life alo...   \n",
       "9997         sam taylor  this dark fable tells the story of four englis...   \n",
       "9998         renee dyer  for adriana monroe life couldn’t get any bette...   \n",
       "9999        jas t. ward  after demands of thousands of fans in various ...   \n",
       "\n",
       "                                                 Genres  Avg_Rating  \\\n",
       "0     ['Classics', 'Fiction', 'Historical Fiction', ...        4.27   \n",
       "1     ['Fantasy', 'Fiction', 'Young Adult', 'Magic',...        4.47   \n",
       "2     ['Classics', 'Fiction', 'Romance', 'Historical...        4.28   \n",
       "3     ['Classics', 'Nonfiction', 'History', 'Biograp...        4.18   \n",
       "4     ['Classics', 'Fiction', 'Dystopia', 'Fantasy',...        3.98   \n",
       "...                                                 ...         ...   \n",
       "9995  ['Dystopia', 'Science Fiction', 'Post Apocalyp...        3.44   \n",
       "9996                                                 []        4.23   \n",
       "9997  ['Fiction', 'Horror', 'Dystopia', 'Coming Of A...        3.29   \n",
       "9998  ['New Adult', 'Romance', 'Contemporary Romance...        4.13   \n",
       "9999                                                 []        5.00   \n",
       "\n",
       "     Num_Ratings                                                URL  \n",
       "0      5,691,311  https://www.goodreads.com/book/show/2657.To_Ki...  \n",
       "1      9,278,135  https://www.goodreads.com/book/show/72193.Harr...  \n",
       "2      3,944,155  https://www.goodreads.com/book/show/1885.Pride...  \n",
       "3      3,488,438  https://www.goodreads.com/book/show/48855.The_...  \n",
       "4      3,575,172  https://www.goodreads.com/book/show/170448.Ani...  \n",
       "...          ...                                                ...  \n",
       "9995         276  https://www.goodreads.com/book/show/22085400-b...  \n",
       "9996          60  https://www.goodreads.com/book/show/20862902-d...  \n",
       "9997         383  https://www.goodreads.com/book/show/891262.The...  \n",
       "9998         263  https://www.goodreads.com/book/show/19347252-w...  \n",
       "9999          36  https://www.goodreads.com/book/show/21302552-b...  \n",
       "\n",
       "[9923 rows x 8 columns]"
      ]
     },
     "execution_count": 13,
     "metadata": {},
     "output_type": "execute_result"
    }
   ],
   "source": [
    "df"
   ]
  },
  {
   "cell_type": "code",
   "execution_count": 14,
   "id": "9438a2bd",
   "metadata": {},
   "outputs": [
    {
     "data": {
      "text/plain": [
       "'alternate cover edition isbn: 0743273567 (isbn13: 9780743273565)the great gatsby, f. scott fitzgerald\\'s third book, stands as the supreme achievement of his career. this exemplary novel of the jazz age has been acclaimed by generations of readers. the story of the fabulously wealthy jay gatsby and his love for the beautiful daisy buchanan, of lavish parties on long island at a time when the new york times noted \"gin was the national drink and sex the national obsession,\" it is an exquisitely crafted tale of america in the 1920s.the great gatsby is one of the great classics of twentieth-century literature.(from the back cover)'"
      ]
     },
     "execution_count": 14,
     "metadata": {},
     "output_type": "execute_result"
    }
   ],
   "source": [
    "df.Description[7]"
   ]
  },
  {
   "cell_type": "markdown",
   "id": "4ea229d0-e5a9-445b-9ef1-80749369f90b",
   "metadata": {},
   "source": [
    "## Content Based"
   ]
  },
  {
   "cell_type": "code",
   "execution_count": 142,
   "id": "a6f8872b-0d48-4565-b979-37fbe66da103",
   "metadata": {},
   "outputs": [],
   "source": [
    "from sklearn.feature_extraction.text import TfidfVectorizer"
   ]
  },
  {
   "cell_type": "code",
   "execution_count": 144,
   "id": "f4e735c5-5f02-4b62-8c1a-457ca3bd9295",
   "metadata": {},
   "outputs": [],
   "source": [
    "tfidf_vectorizer = TfidfVectorizer()\n",
    "tfidf_matrix = tfidf_vectorizer.fit_transform(df['Description'])"
   ]
  },
  {
   "cell_type": "code",
   "execution_count": 146,
   "id": "3a88afb4-91af-4960-aaa8-91e0969e7746",
   "metadata": {},
   "outputs": [
    {
     "data": {
      "text/plain": [
       "0                                   to kill a mockingbird\n",
       "1       harry potter and the philosopher’s stone (harr...\n",
       "2                                     pride and prejudice\n",
       "3                               the diary of a young girl\n",
       "4                                             animal farm\n",
       "                              ...                        \n",
       "9918                      breeders (breeders trilogy, #1)\n",
       "9919                                               dynamo\n",
       "9920                                the republic of trees\n",
       "9921                       waking up (healing hearts, #1)\n",
       "9922                   bits and pieces: tales and sonnets\n",
       "Name: Book, Length: 9881, dtype: object"
      ]
     },
     "execution_count": 146,
     "metadata": {},
     "output_type": "execute_result"
    }
   ],
   "source": [
    "cosine_sim = cosine_similarity(tfidf_matrix, tfidf_matrix)"
   ]
  },
  {
   "cell_type": "code",
   "execution_count": 154,
   "id": "898a31ea-2b66-48b4-83e6-cb70401176f2",
   "metadata": {},
   "outputs": [],
   "source": [
    "tfidf_vectorizer = TfidfVectorizer()\n",
    "tfidf_matrix = tfidf_vectorizer.fit_transform(df['Description'])\n",
    "cosine_sim = cosine_similarity(tfidf_matrix, tfidf_matrix)"
   ]
  },
  {
   "cell_type": "code",
   "execution_count": 169,
   "id": "65d3f0fd-0345-48c0-9cf9-43bdf05d4112",
   "metadata": {},
   "outputs": [],
   "source": [
    "def recommend_books_similar_to(book_name, n=5, cosine_sim_mat = cosine_sim):\n",
    "    \n",
    "    books = pd.Series(df['Book'])\n",
    "    \n",
    "    input_idx = books[books == book_name].index[0]\n",
    "    print(input_idx)\n",
    "    top_n_books_idx = list(pd.Series(cosine_sim_mat[input_idx]).sort_values(ascending = False).iloc[1:n+1].index)\n",
    "    \n",
    "    \n",
    "    books_list = list(books)\n",
    "    recommended_books = [books[i] for i in top_n_books_idx]\n",
    "        \n",
    "    return recommended_books"
   ]
  },
  {
   "cell_type": "code",
   "execution_count": 170,
   "id": "b806e320-fb7b-4cbe-b2c9-4495ac8f37c6",
   "metadata": {},
   "outputs": [
    {
     "name": "stdout",
     "output_type": "stream",
     "text": [
      "2\n"
     ]
    },
    {
     "data": {
      "text/plain": [
       "['pride and prejudice and zombies (pride and prejudice and zombies, #1)',\n",
       " 'austenland (austenland, #1)',\n",
       " 'the complete novels',\n",
       " 'pride and prejudice, mansfield park, persuasion',\n",
       " 'dawn of the dreadfuls (pride and prejudice and zombies, #0.5)']"
      ]
     },
     "execution_count": 170,
     "metadata": {},
     "output_type": "execute_result"
    }
   ],
   "source": [
    "recommend_books_similar_to(\"pride and prejudice\")"
   ]
  },
  {
   "cell_type": "markdown",
   "id": "510dd7d5-d67b-41f7-bd88-1e34a9c3e191",
   "metadata": {},
   "source": [
    "## Keyword Extraction"
   ]
  },
  {
   "cell_type": "code",
   "execution_count": 15,
   "id": "70698afc-92d3-4588-8d4c-c8cf3e0eebec",
   "metadata": {},
   "outputs": [
    {
     "name": "stderr",
     "output_type": "stream",
     "text": [
      "C:\\Users\\karu0\\anaconda3\\envs\\NLP\\lib\\site-packages\\transformers\\utils\\generic.py:260: UserWarning: torch.utils._pytree._register_pytree_node is deprecated. Please use torch.utils._pytree.register_pytree_node instead.\n",
      "  torch.utils._pytree._register_pytree_node(\n"
     ]
    }
   ],
   "source": [
    "from keybert import KeyBERT\n",
    "\n",
    "kw_model = KeyBERT()"
   ]
  },
  {
   "cell_type": "code",
   "execution_count": 16,
   "id": "341d81bd-1777-4906-8449-9b89bd1525e3",
   "metadata": {},
   "outputs": [],
   "source": [
    "def get_keywords(text):\n",
    "    keywords = kw_model.extract_keywords(text, keyphrase_ngram_range=(1, 1), stop_words=\"english\")\n",
    "    keywords = \" \".join([k[0] for k in keywords])\n",
    "    return keywords"
   ]
  },
  {
   "cell_type": "code",
   "execution_count": 17,
   "id": "9a39968d-149c-4d05-b2b4-e2f8e5d35803",
   "metadata": {},
   "outputs": [],
   "source": [
    "df[\"keywords\"] = df.Description.apply(get_keywords)"
   ]
  },
  {
   "cell_type": "code",
   "execution_count": 21,
   "id": "7df2f6dd-349a-4976-81cb-760f44b143c4",
   "metadata": {},
   "outputs": [],
   "source": [
    "df['keywords1'] = df['keywords'].apply(lambda x: x.split())"
   ]
  },
  {
   "cell_type": "code",
   "execution_count": 22,
   "id": "15253af7-9bc2-4791-b30a-1be8e8ccf28f",
   "metadata": {},
   "outputs": [
    {
     "data": {
      "text/html": [
       "<div>\n",
       "<style scoped>\n",
       "    .dataframe tbody tr th:only-of-type {\n",
       "        vertical-align: middle;\n",
       "    }\n",
       "\n",
       "    .dataframe tbody tr th {\n",
       "        vertical-align: top;\n",
       "    }\n",
       "\n",
       "    .dataframe thead th {\n",
       "        text-align: right;\n",
       "    }\n",
       "</style>\n",
       "<table border=\"1\" class=\"dataframe\">\n",
       "  <thead>\n",
       "    <tr style=\"text-align: right;\">\n",
       "      <th></th>\n",
       "      <th>Unnamed: 0</th>\n",
       "      <th>Book</th>\n",
       "      <th>Author</th>\n",
       "      <th>Description</th>\n",
       "      <th>Genres</th>\n",
       "      <th>Avg_Rating</th>\n",
       "      <th>Num_Ratings</th>\n",
       "      <th>URL</th>\n",
       "      <th>keywords</th>\n",
       "      <th>keywords1</th>\n",
       "    </tr>\n",
       "  </thead>\n",
       "  <tbody>\n",
       "    <tr>\n",
       "      <th>0</th>\n",
       "      <td>0</td>\n",
       "      <td>to kill a mockingbird</td>\n",
       "      <td>harper lee</td>\n",
       "      <td>the unforgettable novel of a childhood in a sl...</td>\n",
       "      <td>['Classics', 'Fiction', 'Historical Fiction', ...</td>\n",
       "      <td>4.27</td>\n",
       "      <td>5,691,311</td>\n",
       "      <td>https://www.goodreads.com/book/show/2657.To_Ki...</td>\n",
       "      <td>mockingbird pulitzer literature novel bestseller</td>\n",
       "      <td>[mockingbird, pulitzer, literature, novel, bes...</td>\n",
       "    </tr>\n",
       "    <tr>\n",
       "      <th>1</th>\n",
       "      <td>1</td>\n",
       "      <td>harry potter and the philosopher’s stone (harr...</td>\n",
       "      <td>j.k. rowling</td>\n",
       "      <td>harry potter thinks he is an ordinary boy - un...</td>\n",
       "      <td>['Fantasy', 'Fiction', 'Young Adult', 'Magic',...</td>\n",
       "      <td>4.47</td>\n",
       "      <td>9,278,135</td>\n",
       "      <td>https://www.goodreads.com/book/show/72193.Harr...</td>\n",
       "      <td>potter harry wizard wizardry hogwarts</td>\n",
       "      <td>[potter, harry, wizard, wizardry, hogwarts]</td>\n",
       "    </tr>\n",
       "    <tr>\n",
       "      <th>2</th>\n",
       "      <td>2</td>\n",
       "      <td>pride and prejudice</td>\n",
       "      <td>jane austen</td>\n",
       "      <td>since its immediate success in 1813, pride and...</td>\n",
       "      <td>['Classics', 'Fiction', 'Romance', 'Historical...</td>\n",
       "      <td>4.28</td>\n",
       "      <td>3,944,155</td>\n",
       "      <td>https://www.goodreads.com/book/show/1885.Pride...</td>\n",
       "      <td>austen novels prejudice elizabeth pride</td>\n",
       "      <td>[austen, novels, prejudice, elizabeth, pride]</td>\n",
       "    </tr>\n",
       "    <tr>\n",
       "      <th>3</th>\n",
       "      <td>3</td>\n",
       "      <td>the diary of a young girl</td>\n",
       "      <td>anne frank</td>\n",
       "      <td>discovered in the attic in which she spent the...</td>\n",
       "      <td>['Classics', 'Nonfiction', 'History', 'Biograp...</td>\n",
       "      <td>4.18</td>\n",
       "      <td>3,488,438</td>\n",
       "      <td>https://www.goodreads.com/book/show/48855.The_...</td>\n",
       "      <td>anne diary frank franks attic</td>\n",
       "      <td>[anne, diary, frank, franks, attic]</td>\n",
       "    </tr>\n",
       "    <tr>\n",
       "      <th>4</th>\n",
       "      <td>4</td>\n",
       "      <td>animal farm</td>\n",
       "      <td>george orwell</td>\n",
       "      <td>librarian's note: there is an alternate cover ...</td>\n",
       "      <td>['Classics', 'Fiction', 'Dystopia', 'Fantasy',...</td>\n",
       "      <td>3.98</td>\n",
       "      <td>3,575,172</td>\n",
       "      <td>https://www.goodreads.com/book/show/170448.Ani...</td>\n",
       "      <td>stalinist farm totalitarianism orwell revolution</td>\n",
       "      <td>[stalinist, farm, totalitarianism, orwell, rev...</td>\n",
       "    </tr>\n",
       "    <tr>\n",
       "      <th>...</th>\n",
       "      <td>...</td>\n",
       "      <td>...</td>\n",
       "      <td>...</td>\n",
       "      <td>...</td>\n",
       "      <td>...</td>\n",
       "      <td>...</td>\n",
       "      <td>...</td>\n",
       "      <td>...</td>\n",
       "      <td>...</td>\n",
       "      <td>...</td>\n",
       "    </tr>\n",
       "    <tr>\n",
       "      <th>9995</th>\n",
       "      <td>9995</td>\n",
       "      <td>breeders (breeders trilogy, #1)</td>\n",
       "      <td>ashley quigley</td>\n",
       "      <td>how far would you go? if human society was gen...</td>\n",
       "      <td>['Dystopia', 'Science Fiction', 'Post Apocalyp...</td>\n",
       "      <td>3.44</td>\n",
       "      <td>276</td>\n",
       "      <td>https://www.goodreads.com/book/show/22085400-b...</td>\n",
       "      <td>ethical genetic offspring unborn breeding</td>\n",
       "      <td>[ethical, genetic, offspring, unborn, breeding]</td>\n",
       "    </tr>\n",
       "    <tr>\n",
       "      <th>9996</th>\n",
       "      <td>9996</td>\n",
       "      <td>dynamo</td>\n",
       "      <td>eleanor gustafson</td>\n",
       "      <td>jeth cavanaugh is searching for a new life alo...</td>\n",
       "      <td>[]</td>\n",
       "      <td>4.23</td>\n",
       "      <td>60</td>\n",
       "      <td>https://www.goodreads.com/book/show/20862902-d...</td>\n",
       "      <td>god jeth stallion redemption fervor</td>\n",
       "      <td>[god, jeth, stallion, redemption, fervor]</td>\n",
       "    </tr>\n",
       "    <tr>\n",
       "      <th>9997</th>\n",
       "      <td>9997</td>\n",
       "      <td>the republic of trees</td>\n",
       "      <td>sam taylor</td>\n",
       "      <td>this dark fable tells the story of four englis...</td>\n",
       "      <td>['Fiction', 'Horror', 'Dystopia', 'Coming Of A...</td>\n",
       "      <td>3.29</td>\n",
       "      <td>383</td>\n",
       "      <td>https://www.goodreads.com/book/show/891262.The...</td>\n",
       "      <td>forest trees rousseau fable nightmare</td>\n",
       "      <td>[forest, trees, rousseau, fable, nightmare]</td>\n",
       "    </tr>\n",
       "    <tr>\n",
       "      <th>9998</th>\n",
       "      <td>9998</td>\n",
       "      <td>waking up (healing hearts, #1)</td>\n",
       "      <td>renee dyer</td>\n",
       "      <td>for adriana monroe life couldn’t get any bette...</td>\n",
       "      <td>['New Adult', 'Romance', 'Contemporary Romance...</td>\n",
       "      <td>4.13</td>\n",
       "      <td>263</td>\n",
       "      <td>https://www.goodreads.com/book/show/19347252-w...</td>\n",
       "      <td>tucker adriana monroe alex betrayal</td>\n",
       "      <td>[tucker, adriana, monroe, alex, betrayal]</td>\n",
       "    </tr>\n",
       "    <tr>\n",
       "      <th>9999</th>\n",
       "      <td>9999</td>\n",
       "      <td>bits and pieces: tales and sonnets</td>\n",
       "      <td>jas t. ward</td>\n",
       "      <td>after demands of thousands of fans in various ...</td>\n",
       "      <td>[]</td>\n",
       "      <td>5.00</td>\n",
       "      <td>36</td>\n",
       "      <td>https://www.goodreads.com/book/show/21302552-b...</td>\n",
       "      <td>sonnets tales poems novella stories</td>\n",
       "      <td>[sonnets, tales, poems, novella, stories]</td>\n",
       "    </tr>\n",
       "  </tbody>\n",
       "</table>\n",
       "<p>9923 rows × 10 columns</p>\n",
       "</div>"
      ],
      "text/plain": [
       "      Unnamed: 0                                               Book  \\\n",
       "0              0                              to kill a mockingbird   \n",
       "1              1  harry potter and the philosopher’s stone (harr...   \n",
       "2              2                                pride and prejudice   \n",
       "3              3                          the diary of a young girl   \n",
       "4              4                                        animal farm   \n",
       "...          ...                                                ...   \n",
       "9995        9995                    breeders (breeders trilogy, #1)   \n",
       "9996        9996                                             dynamo   \n",
       "9997        9997                              the republic of trees   \n",
       "9998        9998                     waking up (healing hearts, #1)   \n",
       "9999        9999                 bits and pieces: tales and sonnets   \n",
       "\n",
       "                 Author                                        Description  \\\n",
       "0            harper lee  the unforgettable novel of a childhood in a sl...   \n",
       "1          j.k. rowling  harry potter thinks he is an ordinary boy - un...   \n",
       "2           jane austen  since its immediate success in 1813, pride and...   \n",
       "3            anne frank  discovered in the attic in which she spent the...   \n",
       "4         george orwell  librarian's note: there is an alternate cover ...   \n",
       "...                 ...                                                ...   \n",
       "9995     ashley quigley  how far would you go? if human society was gen...   \n",
       "9996  eleanor gustafson  jeth cavanaugh is searching for a new life alo...   \n",
       "9997         sam taylor  this dark fable tells the story of four englis...   \n",
       "9998         renee dyer  for adriana monroe life couldn’t get any bette...   \n",
       "9999        jas t. ward  after demands of thousands of fans in various ...   \n",
       "\n",
       "                                                 Genres  Avg_Rating  \\\n",
       "0     ['Classics', 'Fiction', 'Historical Fiction', ...        4.27   \n",
       "1     ['Fantasy', 'Fiction', 'Young Adult', 'Magic',...        4.47   \n",
       "2     ['Classics', 'Fiction', 'Romance', 'Historical...        4.28   \n",
       "3     ['Classics', 'Nonfiction', 'History', 'Biograp...        4.18   \n",
       "4     ['Classics', 'Fiction', 'Dystopia', 'Fantasy',...        3.98   \n",
       "...                                                 ...         ...   \n",
       "9995  ['Dystopia', 'Science Fiction', 'Post Apocalyp...        3.44   \n",
       "9996                                                 []        4.23   \n",
       "9997  ['Fiction', 'Horror', 'Dystopia', 'Coming Of A...        3.29   \n",
       "9998  ['New Adult', 'Romance', 'Contemporary Romance...        4.13   \n",
       "9999                                                 []        5.00   \n",
       "\n",
       "     Num_Ratings                                                URL  \\\n",
       "0      5,691,311  https://www.goodreads.com/book/show/2657.To_Ki...   \n",
       "1      9,278,135  https://www.goodreads.com/book/show/72193.Harr...   \n",
       "2      3,944,155  https://www.goodreads.com/book/show/1885.Pride...   \n",
       "3      3,488,438  https://www.goodreads.com/book/show/48855.The_...   \n",
       "4      3,575,172  https://www.goodreads.com/book/show/170448.Ani...   \n",
       "...          ...                                                ...   \n",
       "9995         276  https://www.goodreads.com/book/show/22085400-b...   \n",
       "9996          60  https://www.goodreads.com/book/show/20862902-d...   \n",
       "9997         383  https://www.goodreads.com/book/show/891262.The...   \n",
       "9998         263  https://www.goodreads.com/book/show/19347252-w...   \n",
       "9999          36  https://www.goodreads.com/book/show/21302552-b...   \n",
       "\n",
       "                                              keywords  \\\n",
       "0     mockingbird pulitzer literature novel bestseller   \n",
       "1                potter harry wizard wizardry hogwarts   \n",
       "2              austen novels prejudice elizabeth pride   \n",
       "3                        anne diary frank franks attic   \n",
       "4     stalinist farm totalitarianism orwell revolution   \n",
       "...                                                ...   \n",
       "9995         ethical genetic offspring unborn breeding   \n",
       "9996               god jeth stallion redemption fervor   \n",
       "9997             forest trees rousseau fable nightmare   \n",
       "9998               tucker adriana monroe alex betrayal   \n",
       "9999               sonnets tales poems novella stories   \n",
       "\n",
       "                                              keywords1  \n",
       "0     [mockingbird, pulitzer, literature, novel, bes...  \n",
       "1           [potter, harry, wizard, wizardry, hogwarts]  \n",
       "2         [austen, novels, prejudice, elizabeth, pride]  \n",
       "3                   [anne, diary, frank, franks, attic]  \n",
       "4     [stalinist, farm, totalitarianism, orwell, rev...  \n",
       "...                                                 ...  \n",
       "9995    [ethical, genetic, offspring, unborn, breeding]  \n",
       "9996          [god, jeth, stallion, redemption, fervor]  \n",
       "9997        [forest, trees, rousseau, fable, nightmare]  \n",
       "9998          [tucker, adriana, monroe, alex, betrayal]  \n",
       "9999          [sonnets, tales, poems, novella, stories]  \n",
       "\n",
       "[9923 rows x 10 columns]"
      ]
     },
     "execution_count": 22,
     "metadata": {},
     "output_type": "execute_result"
    }
   ],
   "source": [
    "df"
   ]
  },
  {
   "cell_type": "code",
   "execution_count": 23,
   "id": "edb3298a-1e63-40b5-9fa9-b95671b74838",
   "metadata": {},
   "outputs": [],
   "source": [
    "df.to_csv(\"goodreads_data.csv\")"
   ]
  },
  {
   "cell_type": "code",
   "execution_count": 3,
   "id": "d9c82718-de54-4e3e-94be-71d6dfdc1136",
   "metadata": {},
   "outputs": [],
   "source": [
    "df = pd.read_csv('goodreads_data.csv')"
   ]
  },
  {
   "cell_type": "code",
   "execution_count": 20,
   "id": "3032ded5-6081-4e5d-9cf3-f81fa8d75daa",
   "metadata": {},
   "outputs": [],
   "source": [
    "# What genres do you enjoy reading? (e.g., Mystery, Romance, Science Fiction, Fantasy, Historical Fiction, Non-fiction, etc.)\n",
    "# Are there any specific themes or topics you prefer in books? (e.g., Adventure, Love, Friendship, War, Politics, Science, History, etc.)\n",
    "# Do you have any preferred book settings? (e.g., Urban, Rural, Historical, Futuristic, etc.)\n",
    "# How important is character development to you in a book? (e.g., Very important, Somewhat important, Not important)\n",
    "# Do you prefer books with a fast-paced plot or a slower, more reflective pace?\n",
    "\n",
    "# mystery, adventure, futuristic, not important, slow"
   ]
  },
  {
   "cell_type": "code",
   "execution_count": null,
   "id": "1596e075-dec1-4956-87e2-3e68308fbb32",
   "metadata": {},
   "outputs": [],
   "source": [
    "import gensim.downloader as api\n",
    "import numpy as np\n",
    "from sklearn.metrics.pairwise import cosine_similarity\n",
    "fasttext_model = api.load(\"fasttext-wiki-news-subwords-300\")"
   ]
  },
  {
   "cell_type": "code",
   "execution_count": 82,
   "id": "de3e5dca-8d0b-411c-8f23-d0736d02d405",
   "metadata": {},
   "outputs": [],
   "source": [
    "import ast\n",
    "def keyword_embedding(df, fasttext_model):\n",
    "    # df['keywords1'] = df['keywords1'].apply(ast.literal_eval)\n",
    "    df['embedding'] = np.nan\n",
    "    arr = np.zeros((9923, 300))\n",
    "    for i, row in enumerate(df['keywords1']):\n",
    "        vect = np.zeros(300,  dtype=np.float32)\n",
    "        for keyword in row:\n",
    "            if keyword in fasttext_model:\n",
    "                vect += fasttext_model[keyword]\n",
    "        vect = vect / len(row)\n",
    "        arr[i] = vect\n",
    "    return arr"
   ]
  },
  {
   "cell_type": "code",
   "execution_count": 83,
   "id": "20f3dcd1-c2a5-43e6-94ae-de54095f8fce",
   "metadata": {},
   "outputs": [
    {
     "name": "stderr",
     "output_type": "stream",
     "text": [
      "C:\\Users\\karu0\\AppData\\Local\\Temp\\ipykernel_21792\\2290124721.py:11: RuntimeWarning: invalid value encountered in divide\n",
      "  vect = vect / len(row)\n"
     ]
    }
   ],
   "source": [
    "arr = keyword_embedding(df, fasttext_model)"
   ]
  },
  {
   "cell_type": "code",
   "execution_count": 119,
   "id": "1c5e054d-734f-4185-b15a-9105a98c1237",
   "metadata": {},
   "outputs": [],
   "source": [
    "import numpy as np\n",
    "from sklearn.metrics.pairwise import cosine_similarity\n",
    "\n",
    "def user_pref(ans1, ans2, ans3, ans4, ans5, arr, df, fasttext_model):\n",
    "    user_response = [ans1, ans2, ans3, ans4, ans5]\n",
    "    arr_user = np.zeros((5, 300))\n",
    "    \n",
    "    for i, ans in enumerate(user_response):\n",
    "        vect = np.zeros(300, dtype=np.float32)  # Initialize a new vector for each response\n",
    "        if ans in fasttext_model:\n",
    "            vect += fasttext_model[ans]  # Add the vector representation of the word\n",
    "        arr_user[i] = vect / len(user_response)  # Assign the normalized vector to arr_user\n",
    "    arr[np.isnan(arr)] = 0\n",
    "    arr_user[np.isnan(arr_user)] = 0\n",
    "    cosine_sim = cosine_similarity(arr_user, arr)\n",
    "    top_books_indices = []\n",
    "    for i in range(cosine_sim.shape[0]):\n",
    "        user_top_indices = np.argsort(cosine_sim[i])[-1:][::-1]  # Get indices of top 5 similar books\n",
    "        top_books_indices.extend(user_top_indices)\n",
    "    # Get unique top indices and their corresponding book names\n",
    "    unique_top_indices = list(set(top_books_indices))\n",
    "    top_books = df.iloc[unique_top_indices]['Book']\n",
    "    \n",
    "    return top_books"
   ]
  },
  {
   "cell_type": "code",
   "execution_count": 120,
   "id": "aa69feaf-5192-4cd3-aca0-50111d2f9f6b",
   "metadata": {},
   "outputs": [
    {
     "data": {
      "text/plain": [
       "9922    bits and pieces: tales and sonnets\n",
       "7587                          freedom road\n",
       "9443                       beyond the veil\n",
       "109                        brave new world\n",
       "3694                               origins\n",
       "Name: Book, dtype: object"
      ]
     },
     "execution_count": 120,
     "metadata": {},
     "output_type": "execute_result"
    }
   ],
   "source": [
    "user_pref(\"mystery\", \"adventure\", \"futuristic\", \"not important\", \"slow\", arr, df, fasttext_model)"
   ]
  },
  {
   "cell_type": "markdown",
   "id": "4bd7b1f8-2baa-458f-9ec1-984f0a296df1",
   "metadata": {},
   "source": [
    "## Extractive Summarisation"
   ]
  },
  {
   "cell_type": "code",
   "execution_count": 122,
   "id": "60436b4c-170b-43da-b8ab-2d52ac98f365",
   "metadata": {},
   "outputs": [
    {
     "data": {
      "text/plain": [
       "'the unforgettable novel of a childhood in a sleepy southern town and the crisis of conscience that rocked it. \"to kill a mockingbird\" became both an instant bestseller and a critical success when it was first published in 1960. it went on to win the pulitzer prize in 1961 and was later made into an academy award-winning film, also a classic.compassionate, dramatic, and deeply moving, \"to kill a mockingbird\" takes readers to the roots of human behavior - to innocence and experience, kindness and cruelty, love and hatred, humor and pathos. now with over 18 million copies in print and translated into forty languages, this regional story by a young alabama woman claims universal appeal. harper lee always considered her book to be a simple love story. today it is regarded as a masterpiece of american literature.'"
      ]
     },
     "execution_count": 122,
     "metadata": {},
     "output_type": "execute_result"
    }
   ],
   "source": [
    "df['Description'][0]"
   ]
  },
  {
   "cell_type": "code",
   "execution_count": 124,
   "id": "e008c7db-7bb2-4b6d-aec7-fe2a88aeadfa",
   "metadata": {},
   "outputs": [],
   "source": [
    "from gensim.models.doc2vec import Doc2Vec, TaggedDocument\n",
    "from nltk.tokenize import sent_tokenize, word_tokenize\n",
    "from sklearn.cluster import KMeans\n",
    "import numpy as np\n",
    "import random"
   ]
  },
  {
   "cell_type": "code",
   "execution_count": 140,
   "id": "00515385-14e8-4e1a-8a7f-6c85ea69bffc",
   "metadata": {},
   "outputs": [],
   "source": [
    "def sentences_from_clusters(text):\n",
    "    result = \"\"\n",
    "    sent = []\n",
    "    sentences = sent_tokenize(text)\n",
    "    tagged_data = [TaggedDocument(words=word_tokenize(sentence.lower()), tags=[str(i)]) for i, sentence in enumerate(sentences)]\n",
    "    model = Doc2Vec(vector_size=100, window=5, min_count=1, workers=4, epochs=100)\n",
    "    model.build_vocab(tagged_data)\n",
    "    model.train(tagged_data, total_examples=model.corpus_count, epochs=model.epochs)\n",
    "    embeddings = [model.infer_vector(word_tokenize(sentence.lower())) for sentence in sentences]\n",
    "    X = np.array(embeddings)\n",
    "    kmeans = KMeans(n_clusters=3, random_state=0)\n",
    "    kmeans.fit(X)\n",
    "    cluster_assignments = kmeans.labels_\n",
    "    for cluster_id in range(kmeans.n_clusters):\n",
    "        cluster_indices = np.where(cluster_assignments == cluster_id)[0]\n",
    "        random_index = np.random.choice(cluster_indices)\n",
    "        sent.append(sentences[random_index])\n",
    "    \n",
    "    result = \" \".join(sent)\n",
    "    return result"
   ]
  },
  {
   "cell_type": "code",
   "execution_count": 141,
   "id": "3d017a90-00cb-499f-bb0f-f8194e5905e3",
   "metadata": {},
   "outputs": [
    {
     "name": "stderr",
     "output_type": "stream",
     "text": [
      "C:\\Users\\karu0\\anaconda3\\envs\\NLP\\lib\\site-packages\\sklearn\\cluster\\_kmeans.py:1412: FutureWarning: The default value of `n_init` will change from 10 to 'auto' in 1.4. Set the value of `n_init` explicitly to suppress the warning\n",
      "  super()._check_params_vs_input(X, default_n_init=10)\n",
      "C:\\Users\\karu0\\anaconda3\\envs\\NLP\\lib\\site-packages\\sklearn\\cluster\\_kmeans.py:1436: UserWarning: KMeans is known to have a memory leak on Windows with MKL, when there are less chunks than available threads. You can avoid it by setting the environment variable OMP_NUM_THREADS=1.\n",
      "  warnings.warn(\n"
     ]
    },
    {
     "data": {
      "text/plain": [
       "'now with over 18 million copies in print and translated into forty languages, this regional story by a young alabama woman claims universal appeal. today it is regarded as a masterpiece of american literature. \"to kill a mockingbird\" became both an instant bestseller and a critical success when it was first published in 1960. it went on to win the pulitzer prize in 1961 and was later made into an academy award-winning film, also a classic.compassionate, dramatic, and deeply moving, \"to kill a mockingbird\" takes readers to the roots of human behavior - to innocence and experience, kindness and cruelty, love and hatred, humor and pathos.'"
      ]
     },
     "execution_count": 141,
     "metadata": {},
     "output_type": "execute_result"
    }
   ],
   "source": [
    "sentences_from_clusters(df['Description'][0])"
   ]
  },
  {
   "cell_type": "code",
   "execution_count": null,
   "id": "07971e19-9498-4c9b-9b6c-d54787f974ef",
   "metadata": {},
   "outputs": [],
   "source": []
  },
  {
   "cell_type": "code",
   "execution_count": null,
   "id": "fa6c0895-a024-4c1e-8270-4d908a0420aa",
   "metadata": {},
   "outputs": [],
   "source": []
  }
 ],
 "metadata": {
  "kernelspec": {
   "display_name": "Python 3 (ipykernel)",
   "language": "python",
   "name": "python3"
  },
  "language_info": {
   "codemirror_mode": {
    "name": "ipython",
    "version": 3
   },
   "file_extension": ".py",
   "mimetype": "text/x-python",
   "name": "python",
   "nbconvert_exporter": "python",
   "pygments_lexer": "ipython3",
   "version": "3.8.18"
  }
 },
 "nbformat": 4,
 "nbformat_minor": 5
}
